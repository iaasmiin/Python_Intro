{
  "nbformat": 4,
  "nbformat_minor": 0,
  "metadata": {
    "colab": {
      "name": "Aula 3_Exemplos.ipynb",
      "provenance": [],
      "authorship_tag": "ABX9TyN+gFPXz4LS2a83Sqct+oDn",
      "include_colab_link": true
    },
    "kernelspec": {
      "name": "python3",
      "display_name": "Python 3"
    },
    "language_info": {
      "name": "python"
    }
  },
  "cells": [
    {
      "cell_type": "markdown",
      "metadata": {
        "id": "view-in-github",
        "colab_type": "text"
      },
      "source": [
        "<a href=\"https://colab.research.google.com/github/iaasmiin/Python_Intro/blob/main/Aula_3_Exemplos.ipynb\" target=\"_parent\"><img src=\"https://colab.research.google.com/assets/colab-badge.svg\" alt=\"Open In Colab\"/></a>"
      ]
    },
    {
      "cell_type": "code",
      "metadata": {
        "colab": {
          "base_uri": "https://localhost:8080/"
        },
        "id": "ZypGYenIrU1Z",
        "outputId": "e097a129-d271-4337-be39-d41fefffd21b"
      },
      "source": [
        "int(2.8)"
      ],
      "execution_count": 1,
      "outputs": [
        {
          "output_type": "execute_result",
          "data": {
            "text/plain": [
              "2"
            ]
          },
          "metadata": {},
          "execution_count": 1
        }
      ]
    },
    {
      "cell_type": "code",
      "metadata": {
        "colab": {
          "base_uri": "https://localhost:8080/",
          "height": 163
        },
        "id": "UjAEWHCErhiZ",
        "outputId": "d5de1554-0831-4ab4-8953-edf026a728ec"
      },
      "source": [
        "int('Oi')"
      ],
      "execution_count": 2,
      "outputs": [
        {
          "output_type": "error",
          "ename": "ValueError",
          "evalue": "ignored",
          "traceback": [
            "\u001b[0;31m---------------------------------------------------------------------------\u001b[0m",
            "\u001b[0;31mValueError\u001b[0m                                Traceback (most recent call last)",
            "\u001b[0;32m<ipython-input-2-fe057eac90f9>\u001b[0m in \u001b[0;36m<module>\u001b[0;34m()\u001b[0m\n\u001b[0;32m----> 1\u001b[0;31m \u001b[0mint\u001b[0m\u001b[0;34m(\u001b[0m\u001b[0;34m'Oi'\u001b[0m\u001b[0;34m)\u001b[0m\u001b[0;34m\u001b[0m\u001b[0;34m\u001b[0m\u001b[0m\n\u001b[0m",
            "\u001b[0;31mValueError\u001b[0m: invalid literal for int() with base 10: 'Oi'"
          ]
        }
      ]
    },
    {
      "cell_type": "code",
      "metadata": {
        "colab": {
          "base_uri": "https://localhost:8080/"
        },
        "id": "eTooxKCbrvaR",
        "outputId": "04ed19cd-9fe7-4811-90b1-d9c74b85a9a7"
      },
      "source": [
        "float(32)"
      ],
      "execution_count": 3,
      "outputs": [
        {
          "output_type": "execute_result",
          "data": {
            "text/plain": [
              "32.0"
            ]
          },
          "metadata": {},
          "execution_count": 3
        }
      ]
    },
    {
      "cell_type": "code",
      "metadata": {
        "colab": {
          "base_uri": "https://localhost:8080/",
          "height": 163
        },
        "id": "mL8sZwA7sAxJ",
        "outputId": "a5403563-58aa-4483-e395-0850582dff0f"
      },
      "source": [
        "float(iasmin) #O que significa converter string em float?"
      ],
      "execution_count": 4,
      "outputs": [
        {
          "output_type": "error",
          "ename": "NameError",
          "evalue": "ignored",
          "traceback": [
            "\u001b[0;31m---------------------------------------------------------------------------\u001b[0m",
            "\u001b[0;31mNameError\u001b[0m                                 Traceback (most recent call last)",
            "\u001b[0;32m<ipython-input-4-0bbfcfd6f286>\u001b[0m in \u001b[0;36m<module>\u001b[0;34m()\u001b[0m\n\u001b[0;32m----> 1\u001b[0;31m \u001b[0mfloat\u001b[0m\u001b[0;34m(\u001b[0m\u001b[0miasmin\u001b[0m\u001b[0;34m)\u001b[0m\u001b[0;34m\u001b[0m\u001b[0;34m\u001b[0m\u001b[0m\n\u001b[0m",
            "\u001b[0;31mNameError\u001b[0m: name 'iasmin' is not defined"
          ]
        }
      ]
    },
    {
      "cell_type": "code",
      "metadata": {
        "colab": {
          "base_uri": "https://localhost:8080/",
          "height": 35
        },
        "id": "INZq01fisNkA",
        "outputId": "ed5777d8-8817-4612-b33a-a40af3bab449"
      },
      "source": [
        "str(32)"
      ],
      "execution_count": 5,
      "outputs": [
        {
          "output_type": "execute_result",
          "data": {
            "application/vnd.google.colaboratory.intrinsic+json": {
              "type": "string"
            },
            "text/plain": [
              "'32'"
            ]
          },
          "metadata": {},
          "execution_count": 5
        }
      ]
    },
    {
      "cell_type": "code",
      "metadata": {
        "colab": {
          "base_uri": "https://localhost:8080/"
        },
        "id": "JVyHVz7VuKWr",
        "outputId": "d409a573-97ae-4f3d-c0fd-ccc785ac24f2"
      },
      "source": [
        "import math\n",
        "print(math)"
      ],
      "execution_count": 7,
      "outputs": [
        {
          "output_type": "stream",
          "name": "stdout",
          "text": [
            "<module 'math' (built-in)>\n"
          ]
        }
      ]
    },
    {
      "cell_type": "code",
      "metadata": {
        "colab": {
          "base_uri": "https://localhost:8080/"
        },
        "id": "mdKwFtmBuew5",
        "outputId": "aeb2288b-fb08-4787-d5e2-d1cd94fdf9f7"
      },
      "source": [
        "import math\n",
        "cateto_oposto=4\n",
        "cateto_adjacente=2\n",
        "tg_theta=cateto_oposto/cateto_adjacente\n",
        "theta=math.atan(tg_theta)\n",
        "print(theta, 'em radianos')"
      ],
      "execution_count": 8,
      "outputs": [
        {
          "output_type": "stream",
          "name": "stdout",
          "text": [
            "1.1071487177940904 em radianos\n"
          ]
        }
      ]
    },
    {
      "cell_type": "code",
      "metadata": {
        "colab": {
          "base_uri": "https://localhost:8080/"
        },
        "id": "wd37ewYjvCsP",
        "outputId": "80fcdf20-6a9b-4558-fd2c-2f7efeb85011"
      },
      "source": [
        "math.degrees(theta)"
      ],
      "execution_count": 9,
      "outputs": [
        {
          "output_type": "execute_result",
          "data": {
            "text/plain": [
              "63.43494882292201"
            ]
          },
          "metadata": {},
          "execution_count": 9
        }
      ]
    },
    {
      "cell_type": "markdown",
      "metadata": {
        "id": "Do9O8k1QwtVs"
      },
      "source": [
        "**Exercício** Quantos graus tem o ângulo $\\theta$ correspondente a $cos\\theta = \\sqrt2/2$ ?"
      ]
    },
    {
      "cell_type": "code",
      "metadata": {
        "colab": {
          "base_uri": "https://localhost:8080/"
        },
        "id": "fEw7Y82JwyRi",
        "outputId": "05a49a7f-1fd4-48f1-a031-76d98450d73e"
      },
      "source": [
        "felipe=math.degrees(math.acos(math.sqrt(2)/2))\n",
        "print(felipe)"
      ],
      "execution_count": 12,
      "outputs": [
        {
          "output_type": "stream",
          "name": "stdout",
          "text": [
            "45.0\n"
          ]
        }
      ]
    },
    {
      "cell_type": "code",
      "metadata": {
        "id": "pd_cRvVey3xm"
      },
      "source": [
        "def print_poema():\n",
        "  print('Caminante, no hay camino,')\n",
        "  print('se hace camino al andar.')"
      ],
      "execution_count": 15,
      "outputs": []
    },
    {
      "cell_type": "code",
      "metadata": {
        "colab": {
          "base_uri": "https://localhost:8080/"
        },
        "id": "csXPjkfqzTrd",
        "outputId": "e40390f9-b977-475d-e5b1-e9e91d5edfb2"
      },
      "source": [
        "print(print_poema)"
      ],
      "execution_count": 16,
      "outputs": [
        {
          "output_type": "stream",
          "name": "stdout",
          "text": [
            "<function print_poema at 0x7f5cdaed7ef0>\n"
          ]
        }
      ]
    },
    {
      "cell_type": "code",
      "metadata": {
        "colab": {
          "base_uri": "https://localhost:8080/"
        },
        "id": "j548qJXwzWkd",
        "outputId": "e351cf70-6201-4a21-abf2-89ff85988edb"
      },
      "source": [
        "type(print_poema)"
      ],
      "execution_count": 17,
      "outputs": [
        {
          "output_type": "execute_result",
          "data": {
            "text/plain": [
              "function"
            ]
          },
          "metadata": {},
          "execution_count": 17
        }
      ]
    },
    {
      "cell_type": "code",
      "metadata": {
        "id": "wv1swscVzlrr"
      },
      "source": [
        "def verso_poema():\n",
        "  print('Caminante, son tus huellas')\n",
        "  print('El camino e nada más;')\n",
        "\n",
        "  print_poema\n",
        "\n",
        "  print('Al andar se hace el camino,')\n",
        "  print('y al volver la vista atrás,')\n",
        "  print('se ve la senda que nunca')\n",
        "  print('se ha de volver a pisar.')\n",
        "  print('Caminante no hay camino')\n",
        "  print('sino estelas en la mar.')\n"
      ],
      "execution_count": 23,
      "outputs": []
    },
    {
      "cell_type": "code",
      "metadata": {
        "colab": {
          "base_uri": "https://localhost:8080/"
        },
        "id": "3ek1Ze9F0FtC",
        "outputId": "f8dc210d-9267-49eb-cc43-e4be4fc9725c"
      },
      "source": [
        "verso_poema()"
      ],
      "execution_count": 24,
      "outputs": [
        {
          "output_type": "stream",
          "name": "stdout",
          "text": [
            "Caminante, son tus huellas\n",
            "El camino e nada más;\n",
            "Al andar se hace el camino,\n",
            "y al volver la vista atrás,\n",
            "se ve la senda que nunca\n",
            "se ha de volver a pisar.\n",
            "Caminante no hay camino\n",
            "sino estelas en la mar.\n"
          ]
        }
      ]
    }
  ]
}