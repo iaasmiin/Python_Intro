{
  "nbformat": 4,
  "nbformat_minor": 0,
  "metadata": {
    "colab": {
      "name": "Aula 5 - Exercícios",
      "provenance": [],
      "authorship_tag": "ABX9TyO2udK+vJbX6JQdKLsN7FnQ",
      "include_colab_link": true
    },
    "kernelspec": {
      "name": "python3",
      "display_name": "Python 3"
    },
    "language_info": {
      "name": "python"
    }
  },
  "cells": [
    {
      "cell_type": "markdown",
      "metadata": {
        "id": "view-in-github",
        "colab_type": "text"
      },
      "source": [
        "<a href=\"https://colab.research.google.com/github/iaasmiin/Python_Intro/blob/main/Aula_5_Exerc%C3%ADcios.ipynb\" target=\"_parent\"><img src=\"https://colab.research.google.com/assets/colab-badge.svg\" alt=\"Open In Colab\"/></a>"
      ]
    },
    {
      "cell_type": "markdown",
      "metadata": {
        "id": "uxyUEBwHBs2L"
      },
      "source": [
        "**Exercício 1** Modifique o programa da tartaruga (primeiro exemplo) para que, antes de criar a janela, ele solicite que o usuário insira a cor de fundo desejada. Ele deve armazenar as respostas do usuário em uma variável e modificar a cor da janela de acordo com os desejos do usuário."
      ]
    },
    {
      "cell_type": "markdown",
      "metadata": {
        "id": "a647X_kxGOmf"
      },
      "source": [
        "Testando o comando input"
      ]
    },
    {
      "cell_type": "code",
      "metadata": {
        "colab": {
          "base_uri": "https://localhost:8080/"
        },
        "id": "nDkvNkJI-vXD",
        "outputId": "253aaa3a-e07a-43f2-fd1c-8808b8f551e0"
      },
      "source": [
        "nome = input(\"Digite seu nome:\")\n",
        "print('Olá ', nome, \". Seja bem vinda\")"
      ],
      "execution_count": 3,
      "outputs": [
        {
          "output_type": "stream",
          "name": "stdout",
          "text": [
            "Digite seu nome:Iasmin\n",
            "Olá  Iasmin . Seja bem vinda\n"
          ]
        }
      ]
    },
    {
      "cell_type": "code",
      "metadata": {
        "id": "T0kKNSSIGUc2"
      },
      "source": [
        "print(\"Hello, Welcome to my first turtle code\")\n",
        "color = input(\"At first, could you choose a turtle color?\")\n",
        "\n",
        "import turtle             # nos permite usar as tartarugas (turtles)\n",
        "jn = turtle.Screen()      # Abre uma janela onde as tartarugas vão caminhar\n",
        "joana = turtle.Turtle()    # Cria uma tartaruga, atribui a joana\n",
        "\n",
        "joana.color(color)   \n",
        "\n",
        "joana.forward(50)          # diz para joana andar para frente por 50 unidades\n",
        "joana.left(90)             # diz para joana virar de 90 graus\n",
        "joana.forward(30)          # Completa o segundo lado do retângulo\n",
        "\n",
        "jn.mainloop()             # Espera o usuário fechar a janela"
      ],
      "execution_count": null,
      "outputs": []
    },
    {
      "cell_type": "markdown",
      "metadata": {
        "id": "FX0s0L8LGjyG"
      },
      "source": [
        "**Exercício 2**: Faça modificações similares para permitir que o usuário mude a cor da tartaruga durante a execução do programa.\n",
        "\n",
        "Faça o mesmo para a largura da caneta da tartaruga. Dica: seu diálogo com o usuário retornará uma string, mas o método pensize espera que seu argumento seja um int. Então, você precisará converter a string em um int antes de passá-la para pensize.\n",
        "\n",
        "**OBSERVAÇÃO: EU NÃO ENTENDI O QUE SIGNIFICA TROCAR A COR DURANTE A EXECUÇÃO DO PROGRAMA**"
      ]
    },
    {
      "cell_type": "code",
      "metadata": {
        "id": "wYAg3owvGuYz"
      },
      "source": [
        "print(\"Hello, Welcome to my first turtle code\")\n",
        "color = input(\"At first, could you choose a turtle color?\")\n",
        "pensize = input(\"And second... I need a pensize for our turtle:\")\n",
        "\n",
        "import turtle             # nos permite usar as tartarugas (turtles)\n",
        "jn = turtle.Screen()      # Abre uma janela onde as tartarugas vão caminhar\n",
        "joana = turtle.Turtle()   # Cria uma tartaruga, atribui a joana\n",
        "pensize = int(pensize)\n",
        "joana.pensize(pensize) \n",
        "\n",
        "joana.color(color)   \n",
        "\n",
        "joana.forward(50)          # diz para joana andar para frente por 50 unidades\n",
        "joana.left(90)             # diz para joana virar de 90 graus\n",
        "joana.forward(30)          # Completa o segundo lado do retângulo\n",
        "\n",
        "jn.mainloop()             # Espera o usuário fechar a janela"
      ],
      "execution_count": null,
      "outputs": []
    },
    {
      "cell_type": "markdown",
      "metadata": {
        "id": "6MVW4qlnLwk8"
      },
      "source": [
        "**Exercício 3**: Investiguem os métodos e tipos do módulo Turtle\n"
      ]
    },
    {
      "cell_type": "markdown",
      "metadata": {
        "id": "V3juhtLKL9PA"
      },
      "source": [
        "**Exercício 4**: Desenhe um quadrado, usando a forma de tartaruga, ao invés da flecha, para desenhar. Mude a velocidade com que a tartaruga faz o desenho\n"
      ]
    },
    {
      "cell_type": "code",
      "metadata": {
        "id": "hszYzdouMJb8"
      },
      "source": [
        "print(\"Hello, Welcome to my first turtle code\")\n",
        "color = input(\"At first, could you choose a turtle color?\")\n",
        "pensize = input(\"And second... I need a pensize for our turtle:\")\n",
        "\n",
        "import turtle             # nos permite usar as tartarugas (turtles)\n",
        "jn = turtle.Screen()      # Abre uma janela onde as tartarugas vão caminhar\n",
        "joana = turtle.Turtle()   # Cria uma tartaruga, atribui a joana\n",
        "pensize = int(pensize)\n",
        "joana.pensize(pensize) \n",
        "joana.speed(10)\n",
        "\n",
        "joana.color(color)   \n",
        "\n",
        "for t in [0,1,2,3]:\n",
        "  joana.forward(100)\n",
        "  joana.right(90)\n",
        "\n",
        "jn.mainloop()             # Espera o usuário fechar a janela"
      ],
      "execution_count": null,
      "outputs": []
    },
    {
      "cell_type": "markdown",
      "metadata": {
        "id": "51j771hjNnSO"
      },
      "source": [
        "**Exercício 5:** Sabendo que o ângulo interno da ponta de uma estrela de 5 pontas é de 36 graus, desenhe uma estrela em uma janela."
      ]
    }
  ]
}