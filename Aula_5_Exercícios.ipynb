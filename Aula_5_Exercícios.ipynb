{
  "nbformat": 4,
  "nbformat_minor": 0,
  "metadata": {
    "colab": {
      "name": "Aula 5 - Exercícios",
      "provenance": [],
      "authorship_tag": "ABX9TyPqC3fjpIX7EkQuW/fxLW8e",
      "include_colab_link": true
    },
    "kernelspec": {
      "name": "python3",
      "display_name": "Python 3"
    },
    "language_info": {
      "name": "python"
    }
  },
  "cells": [
    {
      "cell_type": "markdown",
      "metadata": {
        "id": "view-in-github",
        "colab_type": "text"
      },
      "source": [
        "<a href=\"https://colab.research.google.com/github/iaasmiin/Python_Intro/blob/main/Aula_5_Exerc%C3%ADcios.ipynb\" target=\"_parent\"><img src=\"https://colab.research.google.com/assets/colab-badge.svg\" alt=\"Open In Colab\"/></a>"
      ]
    },
    {
      "cell_type": "markdown",
      "metadata": {
        "id": "uxyUEBwHBs2L"
      },
      "source": [
        "**Exercício 1** Modifique o programa da tartaruga (primeiro exemplo) para que, antes de criar a janela, ele solicite que o usuário insira a cor de fundo desejada. Ele deve armazenar as respostas do usuário em uma variável e modificar a cor da janela de acordo com os desejos do usuário."
      ]
    },
    {
      "cell_type": "markdown",
      "metadata": {
        "id": "a647X_kxGOmf"
      },
      "source": [
        "Testando o comando input"
      ]
    },
    {
      "cell_type": "code",
      "metadata": {
        "colab": {
          "base_uri": "https://localhost:8080/"
        },
        "id": "nDkvNkJI-vXD",
        "outputId": "253aaa3a-e07a-43f2-fd1c-8808b8f551e0"
      },
      "source": [
        "nome = input(\"Digite seu nome:\")\n",
        "print('Olá ', nome, \". Seja bem vinda\")"
      ],
      "execution_count": null,
      "outputs": [
        {
          "output_type": "stream",
          "name": "stdout",
          "text": [
            "Digite seu nome:Iasmin\n",
            "Olá  Iasmin . Seja bem vinda\n"
          ]
        }
      ]
    },
    {
      "cell_type": "code",
      "metadata": {
        "id": "T0kKNSSIGUc2"
      },
      "source": [
        "print(\"Hello, Welcome to my first turtle code\")\n",
        "color = input(\"At first, could you choose a turtle color?\")\n",
        "\n",
        "import turtle             # nos permite usar as tartarugas (turtles)\n",
        "jn = turtle.Screen()      # Abre uma janela onde as tartarugas vão caminhar\n",
        "joana = turtle.Turtle()    # Cria uma tartaruga, atribui a joana\n",
        "\n",
        "joana.color(color)   \n",
        "\n",
        "joana.forward(50)          # diz para joana andar para frente por 50 unidades\n",
        "joana.left(90)             # diz para joana virar de 90 graus\n",
        "joana.forward(30)          # Completa o segundo lado do retângulo\n",
        "\n",
        "jn.mainloop()             # Espera o usuário fechar a janela"
      ],
      "execution_count": null,
      "outputs": []
    },
    {
      "cell_type": "markdown",
      "metadata": {
        "id": "FX0s0L8LGjyG"
      },
      "source": [
        "**Exercício 2**: Faça modificações similares para permitir que o usuário mude a cor da tartaruga durante a execução do programa.\n",
        "\n",
        "Faça o mesmo para a largura da caneta da tartaruga. Dica: seu diálogo com o usuário retornará uma string, mas o método pensize espera que seu argumento seja um int. Então, você precisará converter a string em um int antes de passá-la para pensize.\n",
        "\n",
        "**OBSERVAÇÃO: EU NÃO ENTENDI O QUE SIGNIFICA TROCAR A COR DURANTE A EXECUÇÃO DO PROGRAMA**"
      ]
    },
    {
      "cell_type": "code",
      "metadata": {
        "id": "wYAg3owvGuYz"
      },
      "source": [
        "print(\"Hello, Welcome to my first turtle code\")\n",
        "color = input(\"At first, could you choose a turtle color?\")\n",
        "pensize = input(\"And second... I need a pensize for our turtle:\")\n",
        "\n",
        "import turtle             # nos permite usar as tartarugas (turtles)\n",
        "jn = turtle.Screen()      # Abre uma janela onde as tartarugas vão caminhar\n",
        "joana = turtle.Turtle()   # Cria uma tartaruga, atribui a joana\n",
        "pensize = int(pensize)\n",
        "joana.pensize(pensize) \n",
        "\n",
        "joana.color(color)   \n",
        "\n",
        "joana.forward(50)          # diz para joana andar para frente por 50 unidades\n",
        "joana.left(90)             # diz para joana virar de 90 graus\n",
        "joana.forward(30)          # Completa o segundo lado do retângulo\n",
        "\n",
        "jn.mainloop()             # Espera o usuário fechar a janela"
      ],
      "execution_count": null,
      "outputs": []
    },
    {
      "cell_type": "markdown",
      "metadata": {
        "id": "6MVW4qlnLwk8"
      },
      "source": [
        "**Exercício 3**: Investiguem os métodos e tipos do módulo Turtle\n"
      ]
    },
    {
      "cell_type": "markdown",
      "metadata": {
        "id": "V3juhtLKL9PA"
      },
      "source": [
        "**Exercício 4**: Desenhe um quadrado, usando a forma de tartaruga, ao invés da flecha, para desenhar. Mude a velocidade com que a tartaruga faz o desenho\n"
      ]
    },
    {
      "cell_type": "code",
      "metadata": {
        "id": "hszYzdouMJb8"
      },
      "source": [
        "print(\"Hello, Welcome to my first turtle code\")\n",
        "color = input(\"At first, could you choose a turtle color?\")\n",
        "pensize = input(\"And second... I need a pensize for our turtle:\")\n",
        "\n",
        "import turtle             # nos permite usar as tartarugas (turtles)\n",
        "jn = turtle.Screen()      # Abre uma janela onde as tartarugas vão caminhar\n",
        "joana = turtle.Turtle()   # Cria uma tartaruga, atribui a joana\n",
        "pensize = int(pensize)\n",
        "joana.pensize(pensize) \n",
        "joana.speed(10)\n",
        "\n",
        "joana.color(color)   \n",
        "\n",
        "for t in [0,1,2,3]:\n",
        "  joana.forward(100)\n",
        "  joana.right(90)\n",
        "\n",
        "jn.mainloop()             # Espera o usuário fechar a janela"
      ],
      "execution_count": null,
      "outputs": []
    },
    {
      "cell_type": "markdown",
      "metadata": {
        "id": "51j771hjNnSO"
      },
      "source": [
        "**Exercício 5:** Sabendo que o ângulo interno da ponta de uma estrela de 5 pontas é de 36 graus, desenhe uma estrela em uma janela."
      ]
    },
    {
      "cell_type": "code",
      "metadata": {
        "id": "ICSxCexn45mo"
      },
      "source": [
        "print(\"Hello, Welcome to my first turtle code\")\n",
        "color = input(\"At first, could you choose a turtle color?\")\n",
        "pensize = input(\"And second... I need a pensize for our turtle:\")\n",
        "\n",
        "import turtle             # nos permite usar as tartarugas (turtles)\n",
        "jn = turtle.Screen()      # Abre uma janela onde as tartarugas vão caminhar\n",
        "joana = turtle.Turtle()   # Cria uma tartaruga, atribui a joana\n",
        "pensize = int(pensize)\n",
        "joana.pensize(pensize) \n",
        "\n",
        "joana.color(color)   \n",
        "\n",
        "for i in range (5):\n",
        "  joana.forward(100)\n",
        "  joana.right(180-36)\n",
        "\n",
        "jn.mainloop()             # Espera o usuário fechar a janela"
      ],
      "execution_count": null,
      "outputs": []
    },
    {
      "cell_type": "markdown",
      "metadata": {
        "id": "lphdX6Ui5BdE"
      },
      "source": [
        "**Exercício 6** Sabendo o ângulo interno da ponta de uma estrela, desenhe quatro estrelas em uma janela, com uma certa distância entre elas. Dica: use a função penup() e pendown() do módulo turtle"
      ]
    },
    {
      "cell_type": "code",
      "metadata": {
        "id": "eYXB3HQl5Fes"
      },
      "source": [
        "\n",
        "\n",
        "import turtle             # nos permite usar as tartarugas (turtles)\n",
        "jn = turtle.Screen()      # Abre uma janela onde as tartarugas vão caminhar\n",
        "joana = turtle.Turtle()   # Cria uma tartaruga, atribui a joana\n",
        "joana.pensize(1) \n",
        "joana.speed(15)\n",
        "\n",
        "\n",
        "for i in range (5):\n",
        "  joana.forward(50)\n",
        "  joana.right(180-36)\n",
        "\n",
        "joana.penup()\n",
        "joana.fd(100)\n",
        "joana.lt(90)\n",
        "joana.pendown()\n",
        "joana.right(90)\n",
        "\n",
        "for i in range (5):\n",
        "  joana.forward(50)\n",
        "  joana.right(180-36)\n",
        "\n",
        "joana.left(270)\n",
        "joana.penup()\n",
        "joana.fd(100)\n",
        "joana.right(270)\n",
        "joana.pendown()\n",
        "\n",
        "\n",
        "for i in range (5):\n",
        "  joana.forward(50)\n",
        "  joana.right(180-36)\n",
        "\n",
        "joana.penup()\n",
        "joana.right(180)\n",
        "joana.fd(100)\n",
        "joana.left(90)\n",
        "joana.pendown()\n",
        "joana.left(90)\n",
        "\n",
        "for i in range (5):\n",
        "  joana.forward(50)\n",
        "  joana.right(180-36)\n",
        "\n",
        "\n",
        "\n",
        "\n",
        "jn.mainloop()             # Espera o usuário fechar a janela"
      ],
      "execution_count": null,
      "outputs": []
    },
    {
      "cell_type": "markdown",
      "metadata": {
        "id": "PS-H9bplIapy"
      },
      "source": [
        "# Exercícios de Preparação\n"
      ]
    },
    {
      "cell_type": "markdown",
      "metadata": {
        "id": "mfn4Ko24I0h_"
      },
      "source": [
        "**Exercício 1** Escreva uma função chamada square, que toma um parâmetro t, que é uma Turtle. Essa função deve usar o turtle para desenhar um quadrado. Escreva uma chamada de função que passe joana como argumento para square e rode o programa novamente."
      ]
    },
    {
      "cell_type": "code",
      "metadata": {
        "id": "AZIM5PDHI7RR"
      },
      "source": [
        "import turtle\n",
        "\n",
        "jn = turtle.Screen()\n",
        "joana= turtle.Turtle()\n",
        "joana.color(\"blue\")\n",
        "def square(t):\n",
        "  for i in range (4):\n",
        "    joana.forward(100)\n",
        "    joana.left(90)\n",
        "\n",
        "square(joana)\n",
        "\n",
        "jn.mainloop()"
      ],
      "execution_count": null,
      "outputs": []
    },
    {
      "cell_type": "markdown",
      "metadata": {
        "id": "HnDe4WB9s7pq"
      },
      "source": [
        "**Exercício 2** Adicione um outro parâmetro, chamado length, à função square. Modifique o corpo da função de tal forma que o comprimento dos lados do quadrado seja length e então modifique a chamada da função para que seja passado o segundo argumento. Rode o programa novamente. Teste o seu programa com diversos valores para length"
      ]
    },
    {
      "cell_type": "code",
      "metadata": {
        "id": "O6twjKTxuLZV"
      },
      "source": [
        "import turtle\n",
        "\n",
        "jn = turtle.Screen()\n",
        "joana = turtle.Turtle()\n",
        "joana.color(\"blue\")\n",
        "\n",
        "def square(t,length):\n",
        "  \n",
        "  for i in range (4):\n",
        "    joana.forward(length)\n",
        "    joana.left(90)\n",
        "\n",
        "square(joana,200)\n",
        "\n",
        "jn.mainloop()"
      ],
      "execution_count": null,
      "outputs": []
    },
    {
      "cell_type": "markdown",
      "metadata": {
        "id": "BqNf7bFWuMWb"
      },
      "source": [
        "**Exercício 3** Faça uma cópia da função square e mude o nome para polygon. Adicione um outro parâmetro chamado n e modifique o corpo da função para que ela desenhe um polígono regular de n lados. Dica: Os ângulos externos de um polígono regular de n lados são de 360/n graus."
      ]
    },
    {
      "cell_type": "code",
      "metadata": {
        "id": "8d868z0js_vM"
      },
      "source": [
        "import turtle\n",
        "\n",
        "jn = turtle.Screen()\n",
        "joana = turtle.Turtle()\n",
        "joana.color(\"blue\")\n",
        "\n",
        "def polygon(t,length,n):\n",
        "  \n",
        "  for i in range (n):\n",
        "    joana.forward(length)\n",
        "    joana.left(360/n)\n",
        "\n",
        "polygon(joana,100,3)\n",
        "\n",
        "jn.mainloop()"
      ],
      "execution_count": null,
      "outputs": []
    },
    {
      "cell_type": "markdown",
      "metadata": {
        "id": "fjQTvsj4wrBY"
      },
      "source": [
        "**Exercício 4** Escreva uma função chamada circle que toma como argumento uma Turtle, t, e um raio, r, e desenha um círculo aproximado ao chamar a função polygon com length e número n de lados apropriados. Teste sua função com um intervalo de valores de r. Dica: Determine a circunferência do círculo e se certifique que comprimento * n = circunferência."
      ]
    }
  ]
}