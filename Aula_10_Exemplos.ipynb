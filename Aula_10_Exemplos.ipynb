{
  "nbformat": 4,
  "nbformat_minor": 0,
  "metadata": {
    "colab": {
      "name": "Aula 10 - Exemplos.ipynb",
      "provenance": [],
      "authorship_tag": "ABX9TyOiL9NE7Fd9+OVd5A5feE7l",
      "include_colab_link": true
    },
    "kernelspec": {
      "name": "python3",
      "display_name": "Python 3"
    },
    "language_info": {
      "name": "python"
    }
  },
  "cells": [
    {
      "cell_type": "markdown",
      "metadata": {
        "id": "view-in-github",
        "colab_type": "text"
      },
      "source": [
        "<a href=\"https://colab.research.google.com/github/iaasmiin/Python_Intro/blob/main/Aula_10_Exemplos.ipynb\" target=\"_parent\"><img src=\"https://colab.research.google.com/assets/colab-badge.svg\" alt=\"Open In Colab\"/></a>"
      ]
    },
    {
      "cell_type": "markdown",
      "metadata": {
        "id": "wL7XwFHJu-uC"
      },
      "source": [
        "# Análise numérica: resolução de equações diferenciais ordinárias (EDO)"
      ]
    },
    {
      "cell_type": "code",
      "metadata": {
        "colab": {
          "base_uri": "https://localhost:8080/"
        },
        "id": "pRuYDO-evHBw",
        "outputId": "aaafbf8f-b24e-4873-c280-0d6938ecd485"
      },
      "source": [
        "\n",
        "d_inicial=0\n",
        "d_final=2\n",
        "v=12.                           #km/h\n",
        "t=[i for i in range(0,20)]     #intervalos de 1 minuto, 30 minutos\n",
        "d = [d_inicial+v/60 * ti for ti in t] # v em km/min\n",
        "print(d)"
      ],
      "execution_count": 13,
      "outputs": [
        {
          "output_type": "stream",
          "name": "stdout",
          "text": [
            "[0.0, 0.2, 0.4, 0.6000000000000001, 0.8, 1.0, 1.2000000000000002, 1.4000000000000001, 1.6, 1.8, 2.0, 2.2, 2.4000000000000004, 2.6, 2.8000000000000003, 3.0, 3.2, 3.4000000000000004, 3.6, 3.8000000000000003]\n"
          ]
        }
      ]
    },
    {
      "cell_type": "code",
      "metadata": {
        "colab": {
          "base_uri": "https://localhost:8080/",
          "height": 279
        },
        "id": "X57zz5rJy_Mc",
        "outputId": "7f5ec0e8-79d7-4d37-c964-10f15e605e55"
      },
      "source": [
        "import matplotlib.pyplot as plt \n",
        "plt.plot(t,d)\n",
        "plt.xlabel('tempo (min)')\n",
        "plt.ylabel('distância (km)')\n",
        "plt.show()"
      ],
      "execution_count": 14,
      "outputs": [
        {
          "output_type": "display_data",
          "data": {
            "image/png": "[encoded data removed]",
            "text/plain": [
              "<Figure size 432x288 with 1 Axes>"
            ]
          },
          "metadata": {
            "needs_background": "light"
          }
        }
      ]
    },
    {
      "cell_type": "code",
      "metadata": {
        "colab": {
          "base_uri": "https://localhost:8080/"
        },
        "id": "A9Slo2VozaUk",
        "outputId": "ccd9acb4-1d34-4c6a-952e-3ec522c363fb"
      },
      "source": [
        "i=d.index(2)\n",
        "print(\"O atleta percorreu {0} kilômetros em {1} minutos\".format(d[i],t[i]))"
      ],
      "execution_count": 16,
      "outputs": [
        {
          "output_type": "stream",
          "name": "stdout",
          "text": [
            "O atleta percorreu 2.0 kilômetros em 10 minutos\n"
          ]
        }
      ]
    },
    {
      "cell_type": "markdown",
      "metadata": {
        "id": "lprjSaRxzkXU"
      },
      "source": [
        "**Exemplo aleatório**"
      ]
    },
    {
      "cell_type": "code",
      "metadata": {
        "colab": {
          "base_uri": "https://localhost:8080/"
        },
        "id": "40u9FyFuu518",
        "outputId": "29e63661-a839-4e7f-c705-a1d7e0d6479c"
      },
      "source": [
        "ini = 0\n",
        "j = [i for i in range (0,10)]\n",
        "fin = [ini + ji for ji in j]\n",
        "print(fin)"
      ],
      "execution_count": 4,
      "outputs": [
        {
          "output_type": "stream",
          "name": "stdout",
          "text": [
            "[0, 1, 2, 3, 4, 5, 6, 7, 8, 9]\n"
          ]
        }
      ]
    }
  ]
}