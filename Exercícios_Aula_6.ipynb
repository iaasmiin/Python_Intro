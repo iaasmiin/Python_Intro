{
  "nbformat": 4,
  "nbformat_minor": 0,
  "metadata": {
    "colab": {
      "name": "Exercícios - Aula 6.ipynb",
      "provenance": [],
      "authorship_tag": "ABX9TyMBr4DioMUqBHQhrqujtNxh",
      "include_colab_link": true
    },
    "kernelspec": {
      "name": "python3",
      "display_name": "Python 3"
    },
    "language_info": {
      "name": "python"
    }
  },
  "cells": [
    {
      "cell_type": "markdown",
      "metadata": {
        "id": "view-in-github",
        "colab_type": "text"
      },
      "source": [
        "<a href=\"https://colab.research.google.com/github/iaasmiin/Python_Intro/blob/main/Exerc%C3%ADcios_Aula_6.ipynb\" target=\"_parent\"><img src=\"https://colab.research.google.com/assets/colab-badge.svg\" alt=\"Open In Colab\"/></a>"
      ]
    },
    {
      "cell_type": "markdown",
      "metadata": {
        "id": "Ntu6Ui_K6WtS"
      },
      "source": [
        "**Exercício 1** Modifique-o para que o resultado seja um histograma, como o mostrado na figura abaixo. Amplie seu script para que seja possível passar ao programa dados (frequência), com o valor do bin (classe de frequência) e cores determinados pelo usuário.\n",
        "\n",
        "Adicione declarações condicionais à função para casos passíveis de gerar erros, como por exemplo, se alguma variável do argumento da função não for definida."
      ]
    },
    {
      "cell_type": "code",
      "metadata": {
        "id": "Ngoc1Awh6Sxr"
      },
      "source": [
        "import turtle\n",
        "\n",
        "a = input(\"Qual a quantidade de intervalos de classe?\")\n",
        "qinter = int(a)\n",
        "xs = []\n",
        "\n",
        "for i in range (qinter):\n",
        "  n = input(\"Escreva mais uma frequência\")\n",
        "  xs.append(n)\n",
        "\n",
        "def draw_bar(t, height):\n",
        "    \"\"\" Get turtle t to draw one bar, of height. \"\"\"\n",
        "    t.left(90)\n",
        "    t.forward(height)\n",
        "    t.right(90)\n",
        "    t.forward(media)\n",
        "    t.right(90)\n",
        "    t.forward(height)\n",
        "    t.left(90)\n",
        "    #t.forward(10)\n",
        "    #t.leftt(90)\n",
        "\n",
        "tess = turtle.Turtle() #instanciação\n",
        "jn = turtle.Screen()\n",
        "color = input(\"Qual será a cor do histrograma?\")\n",
        "media = input(\"Qual o valor do bin?\")\n",
        "tess.color(\"black\")\n",
        "jn.bgcolor(\"white\")\n",
        "tess.penup() #levantar a caneta\n",
        "tess.goto(-200,-150) #mudar posicao de inicio \n",
        "tess.pendown() #abaixar a caneta\n",
        "\n",
        "\n",
        "\n",
        "print(xs)\n",
        "\n",
        "for a in xs:\n",
        "   tess.begin_fill()\n",
        "   draw_bar(tess, a)\n",
        "   tess.fillcolor(color)\n",
        "   tess.end_fill()"
      ],
      "execution_count": null,
      "outputs": []
    },
    {
      "cell_type": "markdown",
      "metadata": {
        "id": "498OWDd3yUWl"
      },
      "source": [
        "**Exercício 2** Repita o exercício 1) usando Manipulação de exceção em Python (pesquisem!!!!), com as cláusulas try e except"
      ]
    },
    {
      "cell_type": "code",
      "metadata": {
        "id": "LyO3JMkdytgF"
      },
      "source": [
        ""
      ],
      "execution_count": null,
      "outputs": []
    },
    {
      "cell_type": "markdown",
      "metadata": {
        "id": "zZCuT7UizYfq"
      },
      "source": [
        "**Exercício 3** Faça um programa equivalente ao 1 utilizando o matplotilib e numpy ao invés do turtle"
      ]
    },
    {
      "cell_type": "markdown",
      "metadata": {
        "id": "F5EdBj-R-Cjg"
      },
      "source": [
        "**HISTOGRAMA FEITO COM O MATPLOTLIB**"
      ]
    },
    {
      "cell_type": "code",
      "metadata": {
        "colab": {
          "base_uri": "https://localhost:8080/",
          "height": 499
        },
        "id": "PSgTiBlx0NVS",
        "outputId": "0bed9fb1-2f48-41da-ea72-63798f94865e"
      },
      "source": [
        "import matplotlib.pyplot as plt\n",
        "\n",
        "b = input(\"Quantos elementos o seu histograma terá?: \")\n",
        "n_classe = int(b)\n",
        "lista = []\n",
        "\n",
        "\n",
        "for i in range(n_classe):\n",
        "  w = input(\"Digite o elemento da lista: \")\n",
        "  lista.append(w)\n",
        "\n",
        "print('A sua lista é: ',lista)\n",
        "\n",
        "plt.hist(lista, bins=5, edgecolor='black')\n",
        "plt.title('Histograma de teste')\n",
        "plt.xlabel('idades')\n",
        "plt.ylabel('Número de alunos')\n",
        "plt.show()\n",
        "\n"
      ],
      "execution_count": 22,
      "outputs": [
        {
          "output_type": "stream",
          "name": "stdout",
          "text": [
            "Quantos elementos o seu histograma terá?: 10\n",
            "Digite o elemento da lista: 1\n",
            "Digite o elemento da lista: 2\n",
            "Digite o elemento da lista: 1\n",
            "Digite o elemento da lista: 3\n",
            "Digite o elemento da lista: 1\n",
            "Digite o elemento da lista: 2\n",
            "Digite o elemento da lista: 5\n",
            "Digite o elemento da lista: 6\n",
            "Digite o elemento da lista: 7\n",
            "Digite o elemento da lista: 5\n",
            "A sua lista é:  ['1', '2', '1', '3', '1', '2', '5', '6', '7', '5']\n"
          ]
        },
        {
          "output_type": "display_data",
          "data": {
            "image/png": "[encoded data removed]",
            "text/plain": [
              "<Figure size 432x288 with 1 Axes>"
            ]
          },
          "metadata": {
            "needs_background": "light"
          }
        }
      ]
    }
  ]
}