{
  "nbformat": 4,
  "nbformat_minor": 0,
  "metadata": {
    "colab": {
      "name": "Aula 7 - Exercícios.ipynb",
      "provenance": [],
      "authorship_tag": "ABX9TyP2PTmSjV2CbTiXeyZLqkKN",
      "include_colab_link": true
    },
    "kernelspec": {
      "name": "python3",
      "display_name": "Python 3"
    },
    "language_info": {
      "name": "python"
    }
  },
  "cells": [
    {
      "cell_type": "markdown",
      "metadata": {
        "id": "view-in-github",
        "colab_type": "text"
      },
      "source": [
        "<a href=\"https://colab.research.google.com/github/iaasmiin/Python_Intro/blob/main/Aula_7_Exerc%C3%ADcios.ipynb\" target=\"_parent\"><img src=\"https://colab.research.google.com/assets/colab-badge.svg\" alt=\"Open In Colab\"/></a>"
      ]
    },
    {
      "cell_type": "markdown",
      "metadata": {
        "id": "4J4Gd9607ZOp"
      },
      "source": [
        "**Exercício 1** A conjectura de Collatz, diz que \"Todos os inteiros positivos irão eventualmente convergir para 1 usando as regras do Collatz\". Faça um programa que verifique a conjectura de Collatz para alguns valores. As regras de Collatz são:\n",
        "\n",
        "Dado um número n:\n",
        "\n",
        "se n for par, divida-o por 2;\n",
        "\n",
        "1.   se n for par, divida-o por 2\n",
        "2.   se n for ímpar, atualize-o para 3*n+1\n",
        "3.   repetir até chegar ao valor de 1\n"
      ]
    },
    {
      "cell_type": "markdown",
      "metadata": {
        "id": "GHXWQfhs73nC"
      },
      "source": [
        "# Exercícios - Parte 1\n",
        "```\n",
        "\n"
      ]
    },
    {
      "cell_type": "markdown",
      "metadata": {
        "id": "AslphNDOemQ5"
      },
      "source": [
        "**Exercício 1**: A conjectura de Collatz, diz que \"Todos os inteiros positivos irão eventualmente convergir para 1 usando as regras do Collatz\". Faça um programa que verifique a conjectura de Collatz para alguns valores. As regras de Collatz são:\n",
        "\n",
        "Dado um número n:\n",
        "\n",
        "1.  se n for par, divida-o por 2;\n",
        "2.  se n for ímpar, atualize-o para 3*n + 1;\n",
        "3.  repetir até chegar ao valor 1."
      ]
    },
    {
      "cell_type": "code",
      "metadata": {
        "colab": {
          "base_uri": "https://localhost:8080/"
        },
        "id": "fWZZzuXv7VqB",
        "outputId": "60602fc7-0f6d-478e-a837-80361992716d"
      },
      "source": [
        "def collatz(a):\n",
        "\n",
        "  numero = a\n",
        "\n",
        "  while numero != 1:\n",
        "    if numero % 2 == 0:\n",
        "      numero = numero/2\n",
        "      print(numero)\n",
        "    else:\n",
        "      numero = 3*numero+1\n",
        "      print(numero)\n",
        "\n",
        "collatz(23)\n",
        "\n"
      ],
      "execution_count": 28,
      "outputs": [
        {
          "output_type": "stream",
          "name": "stdout",
          "text": [
            "70\n",
            "35.0\n",
            "106.0\n",
            "53.0\n",
            "160.0\n",
            "80.0\n",
            "40.0\n",
            "20.0\n",
            "10.0\n",
            "5.0\n",
            "16.0\n",
            "8.0\n",
            "4.0\n",
            "2.0\n",
            "1.0\n"
          ]
        }
      ]
    },
    {
      "cell_type": "markdown",
      "metadata": {
        "id": "u2mT9Prte004"
      },
      "source": [
        "**Exercício 2** Modifique a função counter para contar o número de vezes que os dígitos 0 e 5 aparecem em um dado número n. Por exemplo, n = 10568, tem 2 dígitos 0 ou 5."
      ]
    },
    {
      "cell_type": "code",
      "metadata": {
        "id": "2KblV4cse7kA"
      },
      "source": [
        "def counter(n):\n",
        "    count = 0\n",
        "    while n!=0:\n",
        "        count = count + 1\n",
        "        n = n // 10         # divisão de inteiros\n",
        "    return count\n",
        "\n",
        "counter(71090)"
      ],
      "execution_count": null,
      "outputs": []
    }
  ]
}