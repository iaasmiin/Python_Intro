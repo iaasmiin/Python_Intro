{
  "nbformat": 4,
  "nbformat_minor": 0,
  "metadata": {
    "colab": {
      "name": "Aula 7 - Exemplos.ipynb",
      "provenance": [],
      "authorship_tag": "ABX9TyN2FZ1OJtduFjXw050i0jzI",
      "include_colab_link": true
    },
    "kernelspec": {
      "name": "python3",
      "display_name": "Python 3"
    },
    "language_info": {
      "name": "python"
    }
  },
  "cells": [
    {
      "cell_type": "markdown",
      "metadata": {
        "id": "view-in-github",
        "colab_type": "text"
      },
      "source": [
        "<a href=\"https://colab.research.google.com/github/iaasmiin/Python_Intro/blob/main/Aula_7_Exemplos.ipynb\" target=\"_parent\"><img src=\"https://colab.research.google.com/assets/colab-badge.svg\" alt=\"Open In Colab\"/></a>"
      ]
    },
    {
      "cell_type": "markdown",
      "metadata": {
        "id": "2C3AnGw-agp-"
      },
      "source": [
        "**Declaração**"
      ]
    },
    {
      "cell_type": "code",
      "metadata": {
        "colab": {
          "base_uri": "https://localhost:8080/"
        },
        "id": "jlTy4xxwabKA",
        "outputId": "0a98a0dd-3248-4c21-ee08-3b67dd206da6"
      },
      "source": [
        "x = 5\n",
        "print(x)\n",
        "y = x\n",
        "print(y)\n",
        "y = 8\n",
        "print ('x: ', x, 'y: ', y)"
      ],
      "execution_count": null,
      "outputs": [
        {
          "output_type": "stream",
          "name": "stdout",
          "text": [
            "5\n",
            "5\n",
            "x:  5 y:  8\n"
          ]
        }
      ]
    },
    {
      "cell_type": "markdown",
      "metadata": {
        "id": "TFLMrVfEbEAl"
      },
      "source": [
        "**O loop for revisitado**"
      ]
    },
    {
      "cell_type": "code",
      "metadata": {
        "colab": {
          "base_uri": "https://localhost:8080/"
        },
        "id": "QbmMtWWjbHXZ",
        "outputId": "25105dbb-6779-4da7-c061-9b0c0685bd1b"
      },
      "source": [
        "def mysum(xs):\n",
        "    \"\"\" Soma todos os números em uma dada lista, e retorna o total. \"\"\"\n",
        "    total = 0                # inicialização da variável total\n",
        "    for x in xs:             # para cada item da lista xs\n",
        "        total = total + x    # somar o valor anterior ao item atual da lista: total = total + x\n",
        "    return total\n",
        "\n",
        "print(mysum([2,4,6,8]))\n",
        "\n",
        "assert mysum([2, 4, 6, 8])  # declaração para testar a validade das condições da função mysum. Veremos mais a seguir."
      ],
      "execution_count": null,
      "outputs": [
        {
          "output_type": "stream",
          "name": "stdout",
          "text": [
            "20\n"
          ]
        }
      ]
    },
    {
      "cell_type": "code",
      "metadata": {
        "colab": {
          "base_uri": "https://localhost:8080/"
        },
        "id": "20KawW_igAJK",
        "outputId": "8df0c87a-80c8-457d-bb5c-8006b0d5b133"
      },
      "source": [
        "def soma(ages):\n",
        "  tot=0\n",
        "  for i in ages:\n",
        "    tot = tot + i\n",
        "  return tot\n",
        "\n",
        "print(soma([20,30,40]))"
      ],
      "execution_count": 2,
      "outputs": [
        {
          "output_type": "stream",
          "name": "stdout",
          "text": [
            "90\n"
          ]
        }
      ]
    },
    {
      "cell_type": "code",
      "metadata": {
        "id": "IE6OM6tOqKjw",
        "outputId": "8a2ff1ef-79d5-42d9-b817-3547dde5e2f7",
        "colab": {
          "base_uri": "https://localhost:8080/"
        }
      },
      "source": [
        "def pag(pagamentos):\n",
        "\n",
        "  total_de_pagamentos = 0\n",
        "\n",
        "  for i in pagamentos:\n",
        "    total_de_pagamentos = total_de_pagamentos + i\n",
        "  return total_de_pagamentos\n",
        "\n",
        "print('Esse mês você receberá', pag([100, 180, 200]))\n",
        "\n"
      ],
      "execution_count": 8,
      "outputs": [
        {
          "output_type": "stream",
          "name": "stdout",
          "text": [
            "Esse mês você receberá 480\n"
          ]
        }
      ]
    },
    {
      "cell_type": "markdown",
      "metadata": {
        "id": "e3ikqIihyrp5"
      },
      "source": [
        "**A declaração While**"
      ]
    },
    {
      "cell_type": "code",
      "metadata": {
        "id": "QR5QUPUFyxu3",
        "outputId": "8037212e-9496-44d6-85f8-56b8d4ec2eac",
        "colab": {
          "base_uri": "https://localhost:8080/"
        }
      },
      "source": [
        "def soma_ate(n):\n",
        "    \"\"\" Retorna a soma de 1+2+3 ... n \"\"\"\n",
        "    ss  = 0\n",
        "    v = 1\n",
        "    while v <= n:      \n",
        "        ss = ss + v     # ss += v\n",
        "        print('ss = ', ss)\n",
        "        v = v + 1       # v +=1\n",
        "        print('v = ', v)\n",
        "    return ss\n",
        "\n",
        "print(soma_ate(8))"
      ],
      "execution_count": 9,
      "outputs": [
        {
          "output_type": "stream",
          "name": "stdout",
          "text": [
            "ss =  1\n",
            "v =  2\n",
            "ss =  3\n",
            "v =  3\n",
            "ss =  6\n",
            "v =  4\n",
            "ss =  10\n",
            "v =  5\n",
            "ss =  15\n",
            "v =  6\n",
            "ss =  21\n",
            "v =  7\n",
            "ss =  28\n",
            "v =  8\n",
            "ss =  36\n",
            "v =  9\n",
            "36\n"
          ]
        }
      ]
    },
    {
      "cell_type": "markdown",
      "metadata": {
        "id": "sckhMa8i4S2L"
      },
      "source": [
        "**A declaração BREAK**"
      ]
    },
    {
      "cell_type": "code",
      "metadata": {
        "id": "U3jSDE3_4Wm_",
        "outputId": "5c30b8e7-75ab-4ea1-a9f2-2ddf855d8a46",
        "colab": {
          "base_uri": "https://localhost:8080/"
        }
      },
      "source": [
        "for i in [12, 16, 17, 24, 29]:\n",
        "    if i % 2 == 1:  # If the number is odd\n",
        "       break        #  ... immediately exit the loop\n",
        "    print(i)\n",
        "print(\"done\")"
      ],
      "execution_count": 22,
      "outputs": [
        {
          "output_type": "stream",
          "name": "stdout",
          "text": [
            "12\n",
            "16\n",
            "done\n"
          ]
        }
      ]
    },
    {
      "cell_type": "markdown",
      "metadata": {
        "id": "qZMAzWjn5pAg"
      },
      "source": [
        "**A declaração CONTINUE**"
      ]
    },
    {
      "cell_type": "code",
      "metadata": {
        "id": "zAM2ge6j5viu",
        "outputId": "e7e57a9a-8418-4d31-b996-c3dd2c284ea7",
        "colab": {
          "base_uri": "https://localhost:8080/"
        }
      },
      "source": [
        "for i in [12, 16, 17, 24, 29, 30]:\n",
        "    if i % 2 == 1:      # If the number is odd\n",
        "       continue         # Don't process it\n",
        "    print(i)\n",
        "print(\"done\")"
      ],
      "execution_count": 23,
      "outputs": [
        {
          "output_type": "stream",
          "name": "stdout",
          "text": [
            "12\n",
            "16\n",
            "24\n",
            "30\n",
            "done\n"
          ]
        }
      ]
    }
  ]
}