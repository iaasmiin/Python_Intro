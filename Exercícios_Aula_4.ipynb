{
  "nbformat": 4,
  "nbformat_minor": 0,
  "metadata": {
    "colab": {
      "name": "Exercícios - Aula 4.ipynb",
      "provenance": [],
      "authorship_tag": "ABX9TyPjnR8WcUeNa0pClVmyl0A7",
      "include_colab_link": true
    },
    "kernelspec": {
      "name": "python3",
      "display_name": "Python 3"
    },
    "language_info": {
      "name": "python"
    }
  },
  "cells": [
    {
      "cell_type": "markdown",
      "metadata": {
        "id": "view-in-github",
        "colab_type": "text"
      },
      "source": [
        "<a href=\"https://colab.research.google.com/github/iaasmiin/Python_Intro/blob/main/Exerc%C3%ADcios_Aula_4.ipynb\" target=\"_parent\"><img src=\"https://colab.research.google.com/assets/colab-badge.svg\" alt=\"Open In Colab\"/></a>"
      ]
    },
    {
      "cell_type": "markdown",
      "metadata": {
        "id": "_nFr-dGFzh2q"
      },
      "source": [
        "**Exercício 1** Escreva uma função com um valor de retorno que:\n",
        "\n",
        "*   tome como input dois argumentos;\n",
        "*   execute a soma dos dois parâmetros que foram passados como argumento e atribua o resultado a uma variável;\n",
        "*   tenha como valor de retorno o dobro da soma dos dois parâmetros.\n"
      ]
    },
    {
      "cell_type": "code",
      "metadata": {
        "id": "mIscZznDzYg-"
      },
      "source": [
        "def exercicio(x,y):\n",
        "  z=x+y\n",
        "  retorno=z*2\n",
        "  print('O  dobro da soma dos números digitados é:',retorno)\n"
      ],
      "execution_count": 1,
      "outputs": []
    },
    {
      "cell_type": "code",
      "metadata": {
        "colab": {
          "base_uri": "https://localhost:8080/"
        },
        "id": "0oQTpGRr1xH1",
        "outputId": "1df349c9-63b0-4fe7-e9d7-9abb7ca94949"
      },
      "source": [
        "exercicio(2,3)"
      ],
      "execution_count": 2,
      "outputs": [
        {
          "output_type": "stream",
          "name": "stdout",
          "text": [
            "O  dobro da soma dos números digitados é: 10\n"
          ]
        }
      ]
    },
    {
      "cell_type": "markdown",
      "metadata": {
        "id": "hZkCj_h315Pz"
      },
      "source": [
        "**Exerício 2** \n",
        "\n",
        "a. Digite este exemplo em um script e teste-o.\n",
        "\n",
        "b. Modifique do_twice para que sejam necessários dois argumentos, um objeto de função f e um valor x, e chame a função duas vezes, passando o valor como um argumento.\n",
        "\n",
        "c. Escreva uma versão mais geral de print_spam, chamada print_twice, que use uma string como parâmetro e imprima duas vezes.\n",
        "\n",
        "d. Use a versão modificada (no item b) de do_twice para chamar print_twice duas vezes, passando 'spam' como um argumento.\n",
        "\n",
        "e. Defina uma nova função chamada do_four que recebe um objeto de função e um valor e chama a função quatro vezes, passando o valor como um parâmetro. Deve haver apenas duas declarações no corpo desta função, e não quatro."
      ]
    },
    {
      "cell_type": "markdown",
      "metadata": {
        "id": "rygO8jKA4sMl"
      },
      "source": [
        "**Letra a**"
      ]
    },
    {
      "cell_type": "code",
      "metadata": {
        "colab": {
          "base_uri": "https://localhost:8080/"
        },
        "id": "1CBsVx8s3Pmj",
        "outputId": "665cbec7-6182-438e-8608-4137ec8f2f2f"
      },
      "source": [
        "def do_twice (f): \n",
        "    f () \n",
        "    f ()\n",
        "\n",
        "def print_spam (): \n",
        "    print('spam') \n",
        "\n",
        "do_twice (print_spam)"
      ],
      "execution_count": 10,
      "outputs": [
        {
          "output_type": "stream",
          "name": "stdout",
          "text": [
            "spam\n",
            "spam\n"
          ]
        }
      ]
    },
    {
      "cell_type": "markdown",
      "metadata": {
        "id": "WdFumth240HZ"
      },
      "source": [
        "**Letra b**"
      ]
    },
    {
      "cell_type": "code",
      "metadata": {
        "colab": {
          "base_uri": "https://localhost:8080/"
        },
        "id": "vW7J7RFU458E",
        "outputId": "1a8eb48d-5b68-41f7-8819-e271f4bf20c5"
      },
      "source": [
        "def do_twice(f,x):\n",
        "  f ()\n",
        "  x ()\n",
        "\n",
        "def name():\n",
        "  print('Meu nome é Iasmin')\n",
        "\n",
        "def age():\n",
        "  print('Eu tenho 29 anos')\n",
        "\n",
        "do_twice(name,age)\n",
        "\n"
      ],
      "execution_count": 23,
      "outputs": [
        {
          "output_type": "stream",
          "name": "stdout",
          "text": [
            "Meu nome é Iasmin\n",
            "Eu tenho 29 anos\n"
          ]
        }
      ]
    },
    {
      "cell_type": "markdown",
      "metadata": {
        "id": "wMLSC84I8k8e"
      },
      "source": [
        "**Letra c**"
      ]
    },
    {
      "cell_type": "code",
      "metadata": {
        "colab": {
          "base_uri": "https://localhost:8080/",
          "height": 214
        },
        "id": "clppAfhS8r6F",
        "outputId": "4d3079fe-e86b-41d3-c325-c30a497ca64e"
      },
      "source": [
        "def print_twice (iasmin): \n",
        "    print() \n",
        "    print()\n",
        "\n",
        "print_twice(iasmin)\n",
        "  \n"
      ],
      "execution_count": 33,
      "outputs": [
        {
          "output_type": "error",
          "ename": "NameError",
          "evalue": "ignored",
          "traceback": [
            "\u001b[0;31m---------------------------------------------------------------------------\u001b[0m",
            "\u001b[0;31mNameError\u001b[0m                                 Traceback (most recent call last)",
            "\u001b[0;32m<ipython-input-33-8ea41eb98a75>\u001b[0m in \u001b[0;36m<module>\u001b[0;34m()\u001b[0m\n\u001b[1;32m      3\u001b[0m     \u001b[0mprint\u001b[0m\u001b[0;34m(\u001b[0m\u001b[0;34m)\u001b[0m\u001b[0;34m\u001b[0m\u001b[0;34m\u001b[0m\u001b[0m\n\u001b[1;32m      4\u001b[0m \u001b[0;34m\u001b[0m\u001b[0m\n\u001b[0;32m----> 5\u001b[0;31m \u001b[0mprint_twice\u001b[0m\u001b[0;34m(\u001b[0m\u001b[0miasmin\u001b[0m\u001b[0;34m)\u001b[0m\u001b[0;34m\u001b[0m\u001b[0;34m\u001b[0m\u001b[0m\n\u001b[0m\u001b[1;32m      6\u001b[0m \u001b[0;34m\u001b[0m\u001b[0m\n",
            "\u001b[0;31mNameError\u001b[0m: name 'iasmin' is not defined"
          ]
        }
      ]
    }
  ]
}