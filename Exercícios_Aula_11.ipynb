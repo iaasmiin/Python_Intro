{
  "nbformat": 4,
  "nbformat_minor": 0,
  "metadata": {
    "colab": {
      "name": "Exercícios Aula 11.ipynb",
      "provenance": [],
      "authorship_tag": "ABX9TyO+JNBsCQ3WIlycVAMoAYVS",
      "include_colab_link": true
    },
    "kernelspec": {
      "name": "python3",
      "display_name": "Python 3"
    },
    "language_info": {
      "name": "python"
    }
  },
  "cells": [
    {
      "cell_type": "markdown",
      "metadata": {
        "id": "view-in-github",
        "colab_type": "text"
      },
      "source": [
        "<a href=\"https://colab.research.google.com/github/iaasmiin/Python_Intro/blob/main/Exerc%C3%ADcios_Aula_11.ipynb\" target=\"_parent\"><img src=\"https://colab.research.google.com/assets/colab-badge.svg\" alt=\"Open In Colab\"/></a>"
      ]
    },
    {
      "cell_type": "markdown",
      "metadata": {
        "id": "EtHAqDtFtRYK"
      },
      "source": [
        "**Exercício 1:** Utilizando dicionários e o método get dos dicionários, contrua a seguinte matriz em Python e acesse os valores de índices (0,3), (2,1), (4,3) e (2,2). "
      ]
    },
    {
      "cell_type": "code",
      "metadata": {
        "colab": {
          "base_uri": "https://localhost:8080/"
        },
        "id": "qBlRkq64tNYS",
        "outputId": "935e2128-c3be-478e-cf9f-65c5489bcffe"
      },
      "source": [
        "matriz = {(0,0):0,(0,1):0,(0,2):0,(0,3):1,(0,4):0,(1,0):0,(1,1):0,(1,2):0,(1,3):0,(1,4):0,(2,0):0,(2,1):2,(2,2):0,(2,3):0,(2,4):0,(3,0):0,(3,1):0,(3,2):0,(3,3):0,(3,4):0,(4,0):0,(4,1):0,(4,2):0,(4,3):3,(4,4):0}\n",
        "print(matriz)"
      ],
      "execution_count": 14,
      "outputs": [
        {
          "output_type": "stream",
          "name": "stdout",
          "text": [
            "{(0, 0): 0, (0, 1): 0, (0, 2): 0, (0, 3): 1, (0, 4): 0, (1, 0): 0, (1, 1): 0, (1, 2): 0, (1, 3): 0, (1, 4): 0, (2, 0): 0, (2, 1): 2, (2, 2): 0, (2, 3): 0, (2, 4): 0, (3, 0): 0, (3, 1): 0, (3, 2): 0, (3, 3): 0, (3, 4): 0, (4, 0): 0, (4, 1): 0, (4, 2): 0, (4, 3): 3, (4, 4): 0}\n"
          ]
        }
      ]
    },
    {
      "cell_type": "code",
      "metadata": {
        "colab": {
          "base_uri": "https://localhost:8080/"
        },
        "id": "BTGjBjZj0D2O",
        "outputId": "2f5b89fe-803c-4bd2-dea3-06115c6eb9d0"
      },
      "source": [
        "matriz.get((0,3))\n",
        "print('O elemento(0,3) é:',matriz.get((0,3)))\n",
        "matriz.get((2,1))\n",
        "print('O elemento(2,1) é:',matriz.get((2,1)))\n",
        "matriz.get((4,3))\n",
        "print('O elemento(4,3) é:',matriz.get((4,3)))\n",
        "matriz.get((2,2))\n",
        "print('O elemento(2,2) é:',matriz.get((2,2)))\n"
      ],
      "execution_count": 22,
      "outputs": [
        {
          "output_type": "stream",
          "name": "stdout",
          "text": [
            "O elemento(0,3) é: 1\n",
            "O elemento(2,1) é: 2\n",
            "O elemento(4,3) é: 3\n",
            "O elemento(2,2) é: 0\n"
          ]
        }
      ]
    },
    {
      "cell_type": "code",
      "metadata": {
        "id": "-3D_5VlL2TiX"
      },
      "source": [
        ""
      ],
      "execution_count": null,
      "outputs": []
    },
    {
      "cell_type": "markdown",
      "metadata": {
        "id": "qz9RK7dW2Ua9"
      },
      "source": [
        "**Exercício 2:** Contagem de Letras.\n",
        "\n",
        "a. Utilizando dicionários, escreva uma função que tome como argumento uma palavra (string) e retorne um dicionário que tenha como key cada letra da palavra e como valor o número de vezes que ela aparece na palavra. Tal dicionário é chamado de tabela de frequência. Dica: Utilize novamente o método get dos dicionários.\n",
        "\n",
        "b. Utilizando os métodos sort (referente a listas) e items (referente a dicionários), imprima na tela uma lista ordenada alfabeticamente da tabela de frequência obtida no item a.\n"
      ]
    },
    {
      "cell_type": "code",
      "metadata": {
        "colab": {
          "base_uri": "https://localhost:8080/"
        },
        "id": "gvdNQj3lIttq",
        "outputId": "4cd64348-2107-474f-f0ab-aacdaeb2f276"
      },
      "source": [
        "def palavra(x):\n",
        "  caracteres = []\n",
        "  quant = []\n",
        "  y = len(x)\n",
        "\n",
        "  for i in range (y):\n",
        "    w = x[i]\n",
        "    caracteres.append(w)\n",
        "    k = caracteres.count(x[i])\n",
        "    quant.append(k)\n",
        "\n",
        "  print(caracteres)\n",
        "  print(quant)\n",
        "\n",
        "\n",
        "palavra('paralelepipedo')"
      ],
      "execution_count": 60,
      "outputs": [
        {
          "output_type": "stream",
          "name": "stdout",
          "text": [
            "['p', 'a', 'r', 'a', 'l', 'e', 'l', 'e', 'p', 'i', 'p', 'e', 'd', 'o']\n",
            "[1, 1, 1, 2, 1, 1, 2, 2, 2, 1, 3, 3, 1, 1]\n"
          ]
        }
      ]
    },
    {
      "cell_type": "code",
      "metadata": {
        "colab": {
          "base_uri": "https://localhost:8080/"
        },
        "id": "lZAwsVfH2fHV",
        "outputId": "3867b991-83d9-4dba-bf40-9dbbb08cd19b"
      },
      "source": [
        "def palavra(x):\n",
        "\n",
        "  print(x[0])\n",
        "  print(x[1])\n",
        "  print(x[2])\n",
        "  print(x[3])\n",
        "  print(x[4])\n",
        "\n",
        "sentence.count('a')\n",
        "\n",
        "palavra('telma')"
      ],
      "execution_count": 42,
      "outputs": [
        {
          "output_type": "stream",
          "name": "stdout",
          "text": [
            "t\n",
            "e\n",
            "l\n",
            "m\n",
            "a\n"
          ]
        }
      ]
    },
    {
      "cell_type": "code",
      "metadata": {
        "colab": {
          "base_uri": "https://localhost:8080/"
        },
        "id": "s5gdysr7H1De",
        "outputId": "35ce8f00-d443-44fd-f4fe-e7ecffbfdc17"
      },
      "source": [
        "lista = ['a','b','c']\n",
        "lista.append('d')\n",
        "print(lista)"
      ],
      "execution_count": 41,
      "outputs": [
        {
          "output_type": "stream",
          "name": "stdout",
          "text": [
            "['a', 'b', 'c', 'd']\n"
          ]
        }
      ]
    }
  ]
}