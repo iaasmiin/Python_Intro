{
  "nbformat": 4,
  "nbformat_minor": 0,
  "metadata": {
    "colab": {
      "name": "Aula 3_Exercícios.ipynb",
      "provenance": [],
      "authorship_tag": "ABX9TyOE50xE2Q1KFzZ4+4hznAOP",
      "include_colab_link": true
    },
    "kernelspec": {
      "name": "python3",
      "display_name": "Python 3"
    },
    "language_info": {
      "name": "python"
    }
  },
  "cells": [
    {
      "cell_type": "markdown",
      "metadata": {
        "id": "view-in-github",
        "colab_type": "text"
      },
      "source": [
        "<a href=\"https://colab.research.google.com/github/iaasmiin/Python_Intro/blob/main/Aula_3_Exerc%C3%ADcios_Completos.ipynb\" target=\"_parent\"><img src=\"https://colab.research.google.com/assets/colab-badge.svg\" alt=\"Open In Colab\"/></a>"
      ]
    },
    {
      "cell_type": "markdown",
      "metadata": {
        "id": "Y5yVcm4h2s4r"
      },
      "source": [
        "**Exercício 1**: Crie uma funcão que tome um argumento e imprima o valor e o tipo dele."
      ]
    },
    {
      "cell_type": "code",
      "metadata": {
        "id": "CscwFZj52nwl"
      },
      "source": [
        "def arg(argumento):\n",
        "    print('O argumento é:',argumento)\n",
        "    print(type(argumento))"
      ],
      "execution_count": null,
      "outputs": []
    },
    {
      "cell_type": "code",
      "metadata": {
        "colab": {
          "base_uri": "https://localhost:8080/"
        },
        "id": "H8FicsJx6Lgz",
        "outputId": "46428be5-d003-4c36-b736-158315e2f07d"
      },
      "source": [
        "arg('iasmin')"
      ],
      "execution_count": null,
      "outputs": [
        {
          "output_type": "stream",
          "name": "stdout",
          "text": [
            "O argumento é: iasmin\n",
            "<class 'str'>\n"
          ]
        }
      ]
    },
    {
      "cell_type": "markdown",
      "metadata": {
        "id": "xKt7LYFD9WOo"
      },
      "source": [
        "**Exercício 2:** Crie uma função que calcule e imprima velocidade media de um objeto a partir de uma posição inicial, a final e o tempo transcorrido para um objeto em MRU. Também crie uma funcão que calcule e imprima a velocidade de um objeto a partir da aceleração constante e o tempo (MRUV) (p.ex. queda libre)."
      ]
    },
    {
      "cell_type": "code",
      "metadata": {
        "id": "rCfNZ5dE9ZvY"
      },
      "source": [
        "def velocidade_media(s0,s,t):\n",
        "  vm=(s-s0)/t\n",
        "  print('A velocidade média do mível é:',vm)"
      ],
      "execution_count": null,
      "outputs": []
    },
    {
      "cell_type": "code",
      "metadata": {
        "colab": {
          "base_uri": "https://localhost:8080/"
        },
        "id": "5QATINby-Yv3",
        "outputId": "80207208-4b5f-44de-e79f-b6a726ecacd1"
      },
      "source": [
        "velocidade_media(10,5,2)"
      ],
      "execution_count": null,
      "outputs": [
        {
          "output_type": "stream",
          "name": "stdout",
          "text": [
            "A velocidade média do mível é: -2.5\n"
          ]
        }
      ]
    },
    {
      "cell_type": "code",
      "metadata": {
        "id": "LvjjOHMS-mjd"
      },
      "source": [
        "def velocidade_media2(a,t):\n",
        "  vm2=a*t\n",
        "  print('A velocidade média do móvel é:', vm2)"
      ],
      "execution_count": null,
      "outputs": []
    },
    {
      "cell_type": "code",
      "metadata": {
        "colab": {
          "base_uri": "https://localhost:8080/"
        },
        "id": "quuJ3E7p_sjp",
        "outputId": "687e3a09-38a9-441f-879a-0d365b77dfa7"
      },
      "source": [
        "velocidade_media2(10,2)"
      ],
      "execution_count": null,
      "outputs": [
        {
          "output_type": "stream",
          "name": "stdout",
          "text": [
            "A velocidade média do móvel é: 20\n"
          ]
        }
      ]
    },
    {
      "cell_type": "markdown",
      "metadata": {
        "id": "ZJ7LacA5_zei"
      },
      "source": [
        "**Exercício 3**:Crie uma funcão para calcular o ángulo zenital do sol (da semana passada) tomando como argumento as medidas da altura e o comprimento da sombra"
      ]
    },
    {
      "cell_type": "code",
      "metadata": {
        "id": "xFTptPK4AOU5"
      },
      "source": [
        "def ângulo_zenital(altura, comprimento):\n",
        "  import math\n",
        "  tan_theta=(altura/comprimento)\n",
        "  print('O ângulo zenital é:', math.atan(tan_theta))"
      ],
      "execution_count": null,
      "outputs": []
    },
    {
      "cell_type": "code",
      "metadata": {
        "colab": {
          "base_uri": "https://localhost:8080/"
        },
        "id": "2uOCaQ3RCbzO",
        "outputId": "34cec092-6e5b-465c-ea8b-9fb0e5ad0d40"
      },
      "source": [
        "ângulo_zenital(1.71,3.1)"
      ],
      "execution_count": null,
      "outputs": [
        {
          "output_type": "stream",
          "name": "stdout",
          "text": [
            "O ângulo zenital é: 0.5040806809062743\n"
          ]
        }
      ]
    },
    {
      "cell_type": "markdown",
      "metadata": {
        "id": "Q-b6_cl5Da6B"
      },
      "source": [
        "**Exercício 4**: Crie uma função que faça a conversão de uma medida inicialmente em milhas para m, e outra para o inverso; uma de horas para segundos, e o inverso. Utilize estas funções para resolver novamente o primeiro exercício da semana passada (da corrida). Se uma pessoa demora 30 minutos em 4 milhas, qual velocidade media em km/h ? e o tempo medio por kilometro?"
      ]
    },
    {
      "cell_type": "code",
      "metadata": {
        "id": "OTr5jl-jDl4X"
      },
      "source": [
        "def milhas_metros(milhas):\n",
        "  milhas_em_metros=milhas*1610\n",
        "  print(milhas_em_metros)\n",
        "\n",
        "def metros_milhas(metros):\n",
        "  metros_em_milhas=metros/1610\n",
        "  print(metros_em_milhas)\n",
        "\n",
        "def horas_segundos(horas):\n",
        "  horas_em_segundos=horas*3600\n",
        "  print(horas_em_segundos)\n",
        "\n",
        "def segundos_em_horas(segundos):\n",
        "  segundos_em_horas=segundos/3600\n",
        "  print(segundos_em_hora)\n",
        "\n",
        "\n",
        "\n"
      ],
      "execution_count": 4,
      "outputs": []
    },
    {
      "cell_type": "markdown",
      "metadata": {
        "id": "xpWJU0WKZ4uX"
      },
      "source": [
        "**Exercício 4**:Crie funções para calcular os outros exemplos das aulas anteriores: IMC, volume de uma esfera, distancia entre pontos de máximos de difração. Decida quais serão os argumentos e o valor retornado."
      ]
    },
    {
      "cell_type": "code",
      "metadata": {
        "id": "HyWzJG7MZ-27"
      },
      "source": [
        "def IMC(peso,altura):\n",
        "  valor_IMC=peso/(altura)**2\n",
        "  print('O valor do IMC é: ',valor_IMC)\n"
      ],
      "execution_count": 7,
      "outputs": []
    },
    {
      "cell_type": "code",
      "metadata": {
        "id": "FssBPBHIa5QO",
        "outputId": "ab393c7c-17e0-4c33-e64a-46ab95a57be4",
        "colab": {
          "base_uri": "https://localhost:8080/"
        }
      },
      "source": [
        "IMC(89,1.71)"
      ],
      "execution_count": 8,
      "outputs": [
        {
          "output_type": "stream",
          "name": "stdout",
          "text": [
            "O valor do IMC é:  30.436715570602924\n"
          ]
        }
      ]
    },
    {
      "cell_type": "code",
      "metadata": {
        "id": "4nFvDUm7a_UL"
      },
      "source": [
        "import math\n",
        "def volume_da_esfera(raio):\n",
        "  volume=(4/3)*math.pi*(raio)**3\n",
        "  print('O volume da esfera é: ',volume)"
      ],
      "execution_count": 33,
      "outputs": []
    },
    {
      "cell_type": "code",
      "metadata": {
        "id": "bb43HMsqbkXC",
        "outputId": "4e0b3b79-61f3-4996-d489-91c753c41f06",
        "colab": {
          "base_uri": "https://localhost:8080/"
        }
      },
      "source": [
        "volume_da_esfera(5)"
      ],
      "execution_count": 34,
      "outputs": [
        {
          "output_type": "stream",
          "name": "stdout",
          "text": [
            "O volume da esfera é:  523.5987755982989\n"
          ]
        }
      ]
    },
    {
      "cell_type": "code",
      "metadata": {
        "id": "9NzU82oahqy-"
      },
      "source": [
        "def dist_max_interferencia(distância_fenda,comprimento_de_onda,espaçamento_entre_fendas):\n",
        "  distância_max=distância_fenda*comprimento_de_onda/espaçamento_entre_fendas\n",
        "  print('A distância entre dos máximos de interferência para os valores fornecidos é:',distância_max)"
      ],
      "execution_count": 39,
      "outputs": []
    },
    {
      "cell_type": "code",
      "metadata": {
        "id": "c7Eis-zqjgnI",
        "outputId": "78ea37ab-5d9a-4092-9ea9-a405136b46ea",
        "colab": {
          "base_uri": "https://localhost:8080/"
        }
      },
      "source": [
        "dist_max_interferencia(1.98,632.8,0.250)"
      ],
      "execution_count": 40,
      "outputs": [
        {
          "output_type": "stream",
          "name": "stdout",
          "text": [
            "A distância entre dos máximos de interferência para os valores fornecidos é: 5011.776\n"
          ]
        }
      ]
    }
  ]
}