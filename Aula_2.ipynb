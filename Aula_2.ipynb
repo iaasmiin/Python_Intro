{
  "nbformat": 4,
  "nbformat_minor": 0,
  "metadata": {
    "colab": {
      "name": "Aula 2.ipynb",
      "provenance": [],
      "authorship_tag": "ABX9TyPxJz63GN8nM1RPbLeU6dUv",
      "include_colab_link": true
    },
    "kernelspec": {
      "name": "python3",
      "display_name": "Python 3"
    },
    "language_info": {
      "name": "python"
    }
  },
  "cells": [
    {
      "cell_type": "markdown",
      "metadata": {
        "id": "view-in-github",
        "colab_type": "text"
      },
      "source": [
        "<a href=\"https://colab.research.google.com/github/iaasmiin/Python_Intro/blob/main/Aula_2.ipynb\" target=\"_parent\"><img src=\"https://colab.research.google.com/assets/colab-badge.svg\" alt=\"Open In Colab\"/></a>"
      ]
    },
    {
      "cell_type": "markdown",
      "metadata": {
        "id": "0VRxo0mMFiye"
      },
      "source": [
        "**Exercício Inicial**\n",
        "\n",
        "Digite as seguintes expressões e/ou declarações no prompt e veja o que elas fazem:\n",
        "*   5\n",
        "*   x = 5\n",
        "*   x + 1\n",
        "\n",
        "\n"
      ]
    },
    {
      "cell_type": "code",
      "metadata": {
        "colab": {
          "base_uri": "https://localhost:8080/"
        },
        "id": "cR9Pa5TdFdue",
        "outputId": "ebcbabd1-b16b-4cfb-9417-1f41e2a11228"
      },
      "source": [
        "5"
      ],
      "execution_count": 1,
      "outputs": [
        {
          "output_type": "execute_result",
          "data": {
            "text/plain": [
              "5"
            ]
          },
          "metadata": {},
          "execution_count": 1
        }
      ]
    },
    {
      "cell_type": "code",
      "metadata": {
        "id": "YliYM2TpGD29"
      },
      "source": [
        "x=5"
      ],
      "execution_count": 3,
      "outputs": []
    },
    {
      "cell_type": "code",
      "metadata": {
        "colab": {
          "base_uri": "https://localhost:8080/"
        },
        "id": "CXqQErq-GIsS",
        "outputId": "3d93185d-01e7-44fd-d744-47cbbb0781ce"
      },
      "source": [
        "x+1"
      ],
      "execution_count": 4,
      "outputs": [
        {
          "output_type": "execute_result",
          "data": {
            "text/plain": [
              "6"
            ]
          },
          "metadata": {},
          "execution_count": 4
        }
      ]
    },
    {
      "cell_type": "markdown",
      "metadata": {
        "id": "F1C0pzu4G1V6"
      },
      "source": [
        "**Exercício 1**"
      ]
    },
    {
      "cell_type": "code",
      "metadata": {
        "id": "NLzV9EK6HEWE"
      },
      "source": [
        "largura = 17"
      ],
      "execution_count": 5,
      "outputs": []
    },
    {
      "cell_type": "code",
      "metadata": {
        "id": "FWbUSVLcHIC4"
      },
      "source": [
        "altura = 12.0\n"
      ],
      "execution_count": 12,
      "outputs": []
    },
    {
      "cell_type": "code",
      "metadata": {
        "id": "WgQFJiXCHYxn"
      },
      "source": [
        "delimitador = '.'"
      ],
      "execution_count": 11,
      "outputs": []
    },
    {
      "cell_type": "code",
      "metadata": {
        "id": "5UeoPm_nHf1m"
      },
      "source": [
        "largura = largura/2"
      ],
      "execution_count": 13,
      "outputs": []
    }
  ]
}