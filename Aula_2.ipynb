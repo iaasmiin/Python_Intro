{
  "nbformat": 4,
  "nbformat_minor": 0,
  "metadata": {
    "colab": {
      "name": "Aula 2.ipynb",
      "provenance": [],
      "authorship_tag": "ABX9TyPE30ttmJbq/upyL51xJVJU",
      "include_colab_link": true
    },
    "kernelspec": {
      "name": "python3",
      "display_name": "Python 3"
    },
    "language_info": {
      "name": "python"
    }
  },
  "cells": [
    {
      "cell_type": "markdown",
      "metadata": {
        "id": "view-in-github",
        "colab_type": "text"
      },
      "source": [
        "<a href=\"https://colab.research.google.com/github/iaasmiin/Python_Intro/blob/main/Aula_2.ipynb\" target=\"_parent\"><img src=\"https://colab.research.google.com/assets/colab-badge.svg\" alt=\"Open In Colab\"/></a>"
      ]
    },
    {
      "cell_type": "markdown",
      "metadata": {
        "id": "0VRxo0mMFiye"
      },
      "source": [
        "**Exercício Inicial**\n",
        "\n",
        "Digite as seguintes expressões e/ou declarações no prompt e veja o que elas fazem:\n",
        "*   5\n",
        "*   x = 5\n",
        "*   x + 1\n",
        "\n",
        "\n"
      ]
    },
    {
      "cell_type": "code",
      "metadata": {
        "colab": {
          "base_uri": "https://localhost:8080/"
        },
        "id": "cR9Pa5TdFdue",
        "outputId": "ebcbabd1-b16b-4cfb-9417-1f41e2a11228"
      },
      "source": [
        "5"
      ],
      "execution_count": null,
      "outputs": [
        {
          "output_type": "execute_result",
          "data": {
            "text/plain": [
              "5"
            ]
          },
          "metadata": {},
          "execution_count": 1
        }
      ]
    },
    {
      "cell_type": "code",
      "metadata": {
        "id": "YliYM2TpGD29"
      },
      "source": [
        "x=5"
      ],
      "execution_count": null,
      "outputs": []
    },
    {
      "cell_type": "code",
      "metadata": {
        "colab": {
          "base_uri": "https://localhost:8080/"
        },
        "id": "CXqQErq-GIsS",
        "outputId": "3d93185d-01e7-44fd-d744-47cbbb0781ce"
      },
      "source": [
        "x+1"
      ],
      "execution_count": null,
      "outputs": [
        {
          "output_type": "execute_result",
          "data": {
            "text/plain": [
              "6"
            ]
          },
          "metadata": {},
          "execution_count": 4
        }
      ]
    },
    {
      "cell_type": "markdown",
      "metadata": {
        "id": "F1C0pzu4G1V6"
      },
      "source": [
        "**Exercício 1**\n",
        "\n",
        "---\n",
        "\n"
      ]
    },
    {
      "cell_type": "code",
      "metadata": {
        "id": "NLzV9EK6HEWE"
      },
      "source": [
        "largura=17"
      ],
      "execution_count": null,
      "outputs": []
    },
    {
      "cell_type": "code",
      "metadata": {
        "id": "FWbUSVLcHIC4"
      },
      "source": [
        "altura=12.0\n"
      ],
      "execution_count": null,
      "outputs": []
    },
    {
      "cell_type": "code",
      "metadata": {
        "id": "WgQFJiXCHYxn"
      },
      "source": [
        "delimitador=\".\""
      ],
      "execution_count": null,
      "outputs": []
    },
    {
      "cell_type": "code",
      "metadata": {
        "colab": {
          "base_uri": "https://localhost:8080/"
        },
        "id": "7o8boJXZKYpM",
        "outputId": "28065053-76fc-43cb-f81a-cdd1a74dbe6e"
      },
      "source": [
        "larg=largura/2\n",
        "print(larg)"
      ],
      "execution_count": null,
      "outputs": [
        {
          "output_type": "stream",
          "name": "stdout",
          "text": [
            "8.5\n"
          ]
        }
      ]
    },
    {
      "cell_type": "code",
      "metadata": {
        "colab": {
          "base_uri": "https://localhost:8080/"
        },
        "id": "975Z9u4BLbXR",
        "outputId": "7f552745-28a7-49d2-b590-05912d189892"
      },
      "source": [
        "larg2=largura/2.0\n",
        "print(larg2)"
      ],
      "execution_count": null,
      "outputs": [
        {
          "output_type": "stream",
          "name": "stdout",
          "text": [
            "8.5\n"
          ]
        }
      ]
    },
    {
      "cell_type": "code",
      "metadata": {
        "colab": {
          "base_uri": "https://localhost:8080/"
        },
        "id": "yOt1FqZhLnoI",
        "outputId": "b470617d-0909-4e3b-d7d6-e2bfa1494668"
      },
      "source": [
        "alt=altura/3\n",
        "print(alt)"
      ],
      "execution_count": null,
      "outputs": [
        {
          "output_type": "stream",
          "name": "stdout",
          "text": [
            "4.0\n"
          ]
        }
      ]
    },
    {
      "cell_type": "code",
      "metadata": {
        "colab": {
          "base_uri": "https://localhost:8080/"
        },
        "id": "-eWbas9SLxk_",
        "outputId": "c54e9076-71c4-4eb0-cbb3-9284e97022d0"
      },
      "source": [
        "1+2*5"
      ],
      "execution_count": null,
      "outputs": [
        {
          "output_type": "execute_result",
          "data": {
            "text/plain": [
              "11"
            ]
          },
          "metadata": {},
          "execution_count": 45
        }
      ]
    },
    {
      "cell_type": "code",
      "metadata": {
        "colab": {
          "base_uri": "https://localhost:8080/"
        },
        "id": "9be_6Tz3L1wP",
        "outputId": "5592a70b-15e0-480b-8af8-02cc4ec2a2b5"
      },
      "source": [
        "delimit=delimitador*5\n",
        "print(delimit)"
      ],
      "execution_count": null,
      "outputs": [
        {
          "output_type": "stream",
          "name": "stdout",
          "text": [
            ".....\n"
          ]
        }
      ]
    },
    {
      "cell_type": "markdown",
      "metadata": {
        "id": "tr4RXA54Mbk_"
      },
      "source": [
        "**Exercício 2** : O volume de uma esfera de raio r é: ![image.png](data:image/png;base64,iVBORw0KGgoAAAANSUhEUgAAACEAAAAWCAYAAABOm/V6AAABg0lEQVRIDcWU61FCQQyFTwdCB5ZgB/CL33aAHWgJlGAJdgAl0AF2gB1oBzofs4fJXQLXuS8ys7OPZJOTs8lKuWwkLXPVNKdPknb3BDGT9CLprkwAABkbxEISjF8INWDFmCDeJb1J+pT0XKNAuS/jqxiZmdq26/5REk+OAIBkr8qYTDgoSRuQzxozDPhpGoqBNiT508ZEWywAUlxxRNCs15Kgn/GaOISFY3LeesTFraTfZMT35b2xAQB/DuuMenRnmZfPiQ6px9moFBPOuEy2jI9oUNacU/10AWIAgIIhhDiN7lglmTnbh3LJE47oHgQADUflnODYYBsFMOgYtU7/ZQKHOKCyke+QZTk6TTCVMRRtOq/JhGLyk0E5Av1RYDFjKNpcXeOMLCi+2jH0AcCBKUSYwDZSC0Dar5OQpdEzm3I7IxA/qsGxB7Dv2A4Qg/y0OK6dO8gkM5kcQsaTBK2DQDMd0Ok3q5313bsA+/rpdX+0Pr+Fiqrnl+MpqG5/tbfuDKL7A4x1Sdj6OhWpAAAAAElFTkSuQmCC). \n",
        "\n",
        "Qual o valor do volume da esfera de raio 5?\n",
        "\n",
        "\n",
        "---\n",
        "\n"
      ]
    },
    {
      "cell_type": "code",
      "metadata": {
        "colab": {
          "base_uri": "https://localhost:8080/"
        },
        "id": "x5IwYKbmMyGH",
        "outputId": "53447fef-b274-4c59-a86e-1d39177eecf2"
      },
      "source": [
        "raio=5\n",
        "volume=(4/3)*3.14*raio**3\n",
        "print('O volume de uma esfera de raio 5 é:',volume)"
      ],
      "execution_count": null,
      "outputs": [
        {
          "output_type": "stream",
          "name": "stdout",
          "text": [
            "O volume de uma esfera de raio 5 é: 523.3333333333334\n"
          ]
        }
      ]
    },
    {
      "cell_type": "markdown",
      "metadata": {
        "id": "1gRVzJd2Pjx0"
      },
      "source": [
        "**Exercício 3**: Suponha que o preço de um livro seja 24.95 reais, porém as livrarias têm desconto de 40%. Os custos de envio são de 3.00 reais para o primeiro livro e 0.75 reais para os livros adicionais. Qual é o custo total da compra de 60 livros?\n",
        "\n",
        "\n",
        "---\n",
        "\n"
      ]
    },
    {
      "cell_type": "code",
      "metadata": {
        "colab": {
          "base_uri": "https://localhost:8080/"
        },
        "id": "9mAIipMjPuFU",
        "outputId": "831bc149-c7a8-48bd-a5e3-5b50c4e40fce"
      },
      "source": [
        "preço_livro=24.95\n",
        "preço_com_desconto=60/100\n",
        "envio_primeiro_livro=3.00\n",
        "custo_60_livros=60*preço_livro*preço_com_desconto+3+0.75*59\n",
        "print('O custo total na compra de 60 livros é ',custo_60_livros)"
      ],
      "execution_count": null,
      "outputs": [
        {
          "output_type": "stream",
          "name": "stdout",
          "text": [
            "O custo total na compra de 60 livros é  945.4499999999999\n"
          ]
        }
      ]
    }
  ]
}